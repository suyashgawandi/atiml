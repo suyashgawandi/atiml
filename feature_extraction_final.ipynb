{
 "cells": [
  {
   "cell_type": "code",
   "execution_count": 6,
   "id": "45f50daf",
   "metadata": {},
   "outputs": [],
   "source": [
    "import numpy as np\n",
    "import pandas as pd\n",
    "\n",
    "from sklearn.feature_extraction.text import TfidfVectorizer\n",
    "\n",
    "from sklearn.metrics.pairwise import cosine_similarity\n",
    "from sklearn.metrics.pairwise import linear_kernel\n",
    "\n"
   ]
  },
  {
   "cell_type": "code",
   "execution_count": 7,
   "id": "c7ce7ab2",
   "metadata": {},
   "outputs": [],
   "source": [
    "df=pd.read_csv('preprocessed_1.csv')"
   ]
  },
  {
   "cell_type": "code",
   "execution_count": 57,
   "id": "3cc49c58",
   "metadata": {},
   "outputs": [],
   "source": [
    "def extract_tfidf(df):\n",
    "    \n",
    "    #Generate TF-IDF Matrix\n",
    "    vectorizer=TfidfVectorizer()\n",
    "    tfidf_vector=vectorizer.fit_transform(df['TEXT'])\n",
    "    \n",
    "    #Calculate cosine similarity matrix\n",
    "    similarity_matrix=cosine_similarity(tfidf_vector, tfidf_vector)\n",
    "    \n",
    "    return (tfidf_vector,similarity_matrix)\n",
    "    "
   ]
  },
  {
   "cell_type": "code",
   "execution_count": 79,
   "id": "feab43a0",
   "metadata": {},
   "outputs": [],
   "source": [
    "tfidf,sim=extract_tfidf(df[0:5000])"
   ]
  },
  {
   "cell_type": "code",
   "execution_count": null,
   "id": "46eb1774",
   "metadata": {},
   "outputs": [],
   "source": []
  },
  {
   "cell_type": "code",
   "execution_count": null,
   "id": "fe678be0",
   "metadata": {},
   "outputs": [],
   "source": []
  },
  {
   "cell_type": "code",
   "execution_count": null,
   "id": "552e47f4",
   "metadata": {},
   "outputs": [],
   "source": []
  }
 ],
 "metadata": {
  "kernelspec": {
   "display_name": "Python 3 (ipykernel)",
   "language": "python",
   "name": "python3"
  },
  "language_info": {
   "codemirror_mode": {
    "name": "ipython",
    "version": 3
   },
   "file_extension": ".py",
   "mimetype": "text/x-python",
   "name": "python",
   "nbconvert_exporter": "python",
   "pygments_lexer": "ipython3",
   "version": "3.9.12"
  }
 },
 "nbformat": 4,
 "nbformat_minor": 5
}
